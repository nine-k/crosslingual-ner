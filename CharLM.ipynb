{
  "nbformat": 4,
  "nbformat_minor": 0,
  "metadata": {
    "colab": {
      "name": "CharLM.ipynb",
      "provenance": [],
      "collapsed_sections": []
    },
    "kernelspec": {
      "name": "python3",
      "display_name": "Python 3"
    },
    "accelerator": "GPU"
  },
  "cells": [
    {
      "cell_type": "code",
      "metadata": {
        "id": "GnVeCFrrKmf9",
        "colab_type": "code",
        "colab": {}
      },
      "source": [
        "import torch\n",
        "from torch import nn\n",
        "import numpy as np\n",
        "import os\n",
        "import re\n",
        "import random\n",
        "from scipy import stats\n",
        "from collections import defaultdict"
      ],
      "execution_count": 0,
      "outputs": []
    },
    {
      "cell_type": "code",
      "metadata": {
        "id": "Pip-CI-uDYga",
        "colab_type": "code",
        "colab": {}
      },
      "source": [
        ""
      ],
      "execution_count": 0,
      "outputs": []
    },
    {
      "cell_type": "markdown",
      "metadata": {
        "id": "35WLlhpUyqPU",
        "colab_type": "text"
      },
      "source": [
        "## Load Data"
      ]
    },
    {
      "cell_type": "code",
      "metadata": {
        "id": "jQyOj-6wYuOV",
        "colab_type": "code",
        "outputId": "cdb97a34-92f9-4dd2-fc44-02d734a30569",
        "colab": {
          "base_uri": "https://localhost:8080/",
          "height": 124
        }
      },
      "source": [
        "from google.colab import drive\n",
        "\n",
        "drive.mount('/content/gdrive')\n",
        "root_path = 'gdrive/My Drive/Corpus/'"
      ],
      "execution_count": 0,
      "outputs": [
        {
          "output_type": "stream",
          "text": [
            "Go to this URL in a browser: https://accounts.google.com/o/oauth2/auth?client_id=947318989803-6bn6qk8qdgf4n4g3pfee6491hc0brc4i.apps.googleusercontent.com&redirect_uri=urn%3aietf%3awg%3aoauth%3a2.0%3aoob&response_type=code&scope=email%20https%3a%2f%2fwww.googleapis.com%2fauth%2fdocs.test%20https%3a%2f%2fwww.googleapis.com%2fauth%2fdrive%20https%3a%2f%2fwww.googleapis.com%2fauth%2fdrive.photos.readonly%20https%3a%2f%2fwww.googleapis.com%2fauth%2fpeopleapi.readonly\n",
            "\n",
            "Enter your authorization code:\n",
            "··········\n",
            "Mounted at /content/gdrive\n"
          ],
          "name": "stdout"
        }
      ]
    },
    {
      "cell_type": "code",
      "metadata": {
        "id": "KkMnk2FiYw82",
        "colab_type": "code",
        "outputId": "3aa86484-e5e8-4be0-c897-c84597c9359f",
        "colab": {
          "base_uri": "https://localhost:8080/",
          "height": 52
        }
      },
      "source": [
        "! ls gdrive/My\\ Drive/Corpus"
      ],
      "execution_count": 0,
      "outputs": [
        {
          "output_type": "stream",
          "text": [
            "bg_wiki_text.tar.lzma  pl_wiki_text.tar.lzma\n",
            "cs_wiki_text.tar.lzma  ru_wiki_text.tar.lzma\n"
          ],
          "name": "stdout"
        }
      ]
    },
    {
      "cell_type": "code",
      "metadata": {
        "id": "93YPexbSLslU",
        "colab_type": "code",
        "outputId": "719499b1-892f-4e87-bde5-e2f080230d32",
        "colab": {
          "base_uri": "https://localhost:8080/",
          "height": 86
        }
      },
      "source": [
        "! tar --lzma -xvf gdrive/My\\ Drive/Corpus/pl_wiki_text.tar.lzma\n",
        "! tar --lzma -xvf gdrive/My\\ Drive/Corpus/ru_wiki_text.tar.lzma\n",
        "! tar --lzma -xvf gdrive/My\\ Drive/Corpus/bg_wiki_text.tar.lzma\n",
        "! tar --lzma -xvf gdrive/My\\ Drive/Corpus/cs_wiki_text.tar.lzma"
      ],
      "execution_count": 0,
      "outputs": [
        {
          "output_type": "stream",
          "text": [
            "./pl//full.txt\n",
            "./ru//full.txt\n",
            "./bg//full.txt\n",
            "./cs//full.txt\n"
          ],
          "name": "stdout"
        }
      ]
    },
    {
      "cell_type": "code",
      "metadata": {
        "id": "L0G_v-mUO7sL",
        "colab_type": "code",
        "colab": {}
      },
      "source": [
        "LANGS = ['bg', 'cs', 'pl', 'ru']\n",
        "MAX_LEN = 800\n",
        "MIN_LEN = 60\n",
        "MAX_LINES = 150000\n",
        "data_dict = {l: [] for l in LANGS}"
      ],
      "execution_count": 0,
      "outputs": []
    },
    {
      "cell_type": "code",
      "metadata": {
        "id": "EhrBBCClPP92",
        "colab_type": "code",
        "outputId": "ba0cfd27-0550-42ad-b32d-529fbeaf24f1",
        "colab": {
          "base_uri": "https://localhost:8080/",
          "height": 86
        }
      },
      "source": [
        "for lang in LANGS:\n",
        "    print(lang)\n",
        "    f = open(os.path.join(lang, 'full.txt'))\n",
        "    for l in f:\n",
        "        if re.match(r'\\[\\[[0-9]*\\]\\]', l) \\\n",
        "            or re.match(r'align =', l) \\\n",
        "            or len(l) == 0 \\\n",
        "            or len(l) > MAX_LEN \\\n",
        "            or len(l) < MIN_LEN:\n",
        "            continue\n",
        "        data_dict[lang].append(l.strip())\n",
        "        #if len(data_dict[lang]) > MAX_LINES:\n",
        "        #    break\n",
        "    data_dict[lang] = random.sample(data_dict[lang], MAX_LINES)"
      ],
      "execution_count": 0,
      "outputs": [
        {
          "output_type": "stream",
          "text": [
            "bg\n",
            "cs\n",
            "pl\n",
            "ru\n"
          ],
          "name": "stdout"
        }
      ]
    },
    {
      "cell_type": "code",
      "metadata": {
        "id": "gQfyu8W4QfKo",
        "colab_type": "code",
        "outputId": "5acdbc1b-da76-4033-a030-776b14abd333",
        "colab": {
          "base_uri": "https://localhost:8080/",
          "height": 86
        }
      },
      "source": [
        "len_dict = {}\n",
        "for lang in LANGS:\n",
        "    print(len(data_dict[lang]))\n",
        "    len_dict[lang] = list(map(len, data_dict[lang]))"
      ],
      "execution_count": 0,
      "outputs": [
        {
          "output_type": "stream",
          "text": [
            "150000\n",
            "150000\n",
            "150000\n",
            "150000\n"
          ],
          "name": "stdout"
        }
      ]
    },
    {
      "cell_type": "code",
      "metadata": {
        "id": "S3_ubKPZRyRn",
        "colab_type": "code",
        "outputId": "d1f890a7-b828-4442-c41c-3b6dbfeaf0af",
        "colab": {
          "base_uri": "https://localhost:8080/",
          "height": 364
        }
      },
      "source": [
        "for lang in LANGS:\n",
        "    l = len_dict[lang]\n",
        "    print(lang)\n",
        "    print('mode:', stats.mode(l).mode[0])\n",
        "    print('mean:', np.mean(l))\n",
        "    print('median:', np.median(l))\n",
        "    print()"
      ],
      "execution_count": 0,
      "outputs": [
        {
          "output_type": "stream",
          "text": [
            "bg\n",
            "mode: 61\n",
            "mean: 129.22226666666666\n",
            "median: 112.0\n",
            "\n",
            "cs\n",
            "mode: 61\n",
            "mean: 126.9294\n",
            "median: 111.0\n",
            "\n",
            "pl\n",
            "mode: 92\n",
            "mean: 125.88850666666667\n",
            "median: 109.0\n",
            "\n",
            "ru\n",
            "mode: 65\n",
            "mean: 138.33240666666666\n",
            "median: 119.0\n",
            "\n"
          ],
          "name": "stdout"
        }
      ]
    },
    {
      "cell_type": "code",
      "metadata": {
        "id": "86htZ3_SSGq9",
        "colab_type": "code",
        "colab": {}
      },
      "source": [
        "DATA = []\n",
        "for lang in LANGS:\n",
        "    DATA.extend(list(map(\n",
        "        lambda x: (x, lang),\n",
        "        data_dict[lang]\n",
        "    )))"
      ],
      "execution_count": 0,
      "outputs": []
    },
    {
      "cell_type": "code",
      "metadata": {
        "id": "0e9FMcnJzeAD",
        "colab_type": "code",
        "colab": {}
      },
      "source": [
        "del data_dict\n",
        "del len_dict"
      ],
      "execution_count": 0,
      "outputs": []
    },
    {
      "cell_type": "code",
      "metadata": {
        "id": "4G05q-g1TDqU",
        "colab_type": "code",
        "colab": {}
      },
      "source": [
        "def iterate_data(data, batch_size=32, shuffle=True):\n",
        "    data = np.array(data)\n",
        "    if shuffle:\n",
        "        np.random.shuffle(data)\n",
        "    for start in range(0, len(data), batch_size):\n",
        "        end = min(len(data), start + batch_size)\n",
        "        batch = data[start:end]\n",
        "        sents, langs = zip(*batch)\n",
        "        yield sents, langs\n"
      ],
      "execution_count": 0,
      "outputs": []
    },
    {
      "cell_type": "code",
      "metadata": {
        "id": "ePrdHVmjTF8W",
        "colab_type": "code",
        "outputId": "0c04adc1-9faf-4cb3-81e9-44e3012e7d56",
        "colab": {
          "base_uri": "https://localhost:8080/",
          "height": 34
        }
      },
      "source": [
        "from gc import collect\n",
        "collect()"
      ],
      "execution_count": 0,
      "outputs": [
        {
          "output_type": "execute_result",
          "data": {
            "text/plain": [
              "11"
            ]
          },
          "metadata": {
            "tags": []
          },
          "execution_count": 11
        }
      ]
    },
    {
      "cell_type": "code",
      "metadata": {
        "id": "S_eKnLy_Xh3k",
        "colab_type": "code",
        "colab": {}
      },
      "source": [
        "sents_only, _ = zip(*DATA)"
      ],
      "execution_count": 0,
      "outputs": []
    },
    {
      "cell_type": "code",
      "metadata": {
        "id": "N9a2h_Hfqwd9",
        "colab_type": "code",
        "colab": {}
      },
      "source": [
        "from matplotlib import pyplot as plt\n",
        "%matplotlib inline \n",
        "from IPython.display import clear_output"
      ],
      "execution_count": 0,
      "outputs": []
    },
    {
      "cell_type": "code",
      "metadata": {
        "id": "iNOnRP6krued",
        "colab_type": "code",
        "colab": {}
      },
      "source": [
        "def plot_history(train_history):\n",
        "    if len(train_history) == 0:\n",
        "        return\n",
        "    metrics = train_history.keys()\n",
        "    n = len(metrics)\n",
        "    fig, ax = plt.subplots((n + 1) // 2, 2, figsize=(15, 10))\n",
        "    \n",
        "    for i, metric in enumerate(metrics):\n",
        "        train_arr = train_history[metric]\n",
        "        ax[i // 2, i % 2].plot(list(range(len(train_arr))), train_arr, label='train')\n",
        "        ax[i // 2, i % 2].set_title(metric)\n",
        "        ax[i // 2, i % 2].set_xlabel('train steps')\n",
        "        ax[i // 2, i % 2].set_ylabel(metric)\n",
        "        ax[i // 2, i % 2].legend()\n",
        "    plt.show()"
      ],
      "execution_count": 0,
      "outputs": []
    },
    {
      "cell_type": "markdown",
      "metadata": {
        "id": "S1LfVU74ym3t",
        "colab_type": "text"
      },
      "source": [
        "## Model"
      ]
    },
    {
      "cell_type": "code",
      "metadata": {
        "id": "Z9-WNVwFyltd",
        "colab_type": "code",
        "colab": {}
      },
      "source": [
        "class CharLM(nn.Module):\n",
        "    _ALLOWED_LANGUAGE_MODES = ['concat', 'add', 'learn_h0', None]\n",
        "    def __init__(self, char2idx, embedding_size, lstm_hidden, language_mode=None, language_list=None, lang_embedding_size=None, gpu=True):\n",
        "        super().__init__()\n",
        "        lstm_input_size = embedding_size\n",
        "        # language processing\n",
        "        if language_mode is None:\n",
        "            self.language_mode = None\n",
        "        elif language_mode == 'concat':\n",
        "            self.language_mode = 'concat'\n",
        "            if lang_embedding_size is None:\n",
        "                raise ValueError('concat mode selected, but language emedding size not provided')\n",
        "            self.lang_embedding_size = lang_embedding_size\n",
        "            lstm_input_size += lang_embedding_size\n",
        "        elif language_mode == 'add':\n",
        "            self.language_mode = 'add'\n",
        "            self.lang_embedding_size = embedding_size\n",
        "        else:\n",
        "            raise ValueError('language mode must be in %s, but %s provided' % (CharLM._ALLOWED_LANGUAGE_MODES, language_mode))\n",
        "\n",
        "        if self.language_mode:\n",
        "            self.language_embs = nn.ParameterDict(\n",
        "                {lang: nn.Parameter(torch.randn(self.lang_embedding_size, requires_grad=True)) for lang in language_list}\n",
        "            )\n",
        "\n",
        "        # char embedding\n",
        "        self.char_embeddings = nn.Embedding(len(char2idx), embedding_size, padding_idx=0)\n",
        "        # lstm\n",
        "        self.lstm_hidden = lstm_hidden\n",
        "        self.lstm = nn.LSTM(lstm_input_size, lstm_hidden, batch_first=True, bidirectional=True)\n",
        "        # linear layer\n",
        "        self.linear_forward = nn.Linear(lstm_hidden, len(char2idx))\n",
        "        self.linear_backward = nn.Linear(lstm_hidden, len(char2idx))\n",
        "        # loss\n",
        "        self.loss = nn.CrossEntropyLoss(ignore_index=0)\n",
        "\n",
        "        self.char2idx = char2idx\n",
        "        self.device = 'cuda' if gpu else 'cpu'\n",
        "\n",
        "    def forward(self, x):\n",
        "        # TODO add initial state for learn h0\n",
        "        if self.language_mode == 'learn_h0':\n",
        "            raise NotImplementedError(\"learning initial hidden state is not implemented yet\")\n",
        "        else:\n",
        "            h0, c0 = None, None\n",
        "        x, _ = self.lstm(x)\n",
        "        bsz = x.batch_sizes[0]\n",
        "        x = nn.utils.rnn.pad_packed_sequence(x, batch_first=True, padding_value=0.0)[0]\n",
        "        bsz, max_len, _ = x.size()\n",
        "        x = x.view(bsz, max_len, 2, self.lstm_hidden)\n",
        "        return x[:, :, 0], x[:, :, 1] # forward, backward\n",
        "\n",
        "    def calc_loss(self, sentences, langs):\n",
        "        embeded, indexed_sents = self.embed_and_pack(sentences, langs)\n",
        "        lstm_forward, lstm_backward = self(embeded)\n",
        "        # TODO make sure this the correct order\n",
        "        # print(lstm_forward.size(), lstm_backward.size())\n",
        "        preds_f = self.linear_forward(lstm_forward)\n",
        "        preds_b = self.linear_backward(lstm_backward)\n",
        "        # print(preds_f.size(), preds_b.size(), indexed_sents.size())\n",
        "        loss_f = self.loss(preds_f[:, :-1].reshape(-1, len(self.char2idx)), indexed_sents[:, 1:].reshape(-1))\n",
        "        # set end token to 0, which is ignored by the loss function\n",
        "        backward_mask = (indexed_sents != self.char2idx['<END>'])[:, :-1]\n",
        "        loss_b = self.loss(preds_b[:, 1:].reshape(-1, len(self.char2idx)), (indexed_sents[:, :-1] * backward_mask).reshape(-1))\n",
        "        return loss_f, loss_b\n",
        "        \n",
        "    @staticmethod\n",
        "    def build_char_dict(corpus, special_tokens=['<PAD>', '<START>', '<END>', '<UNK>']):\n",
        "        chars = set()\n",
        "        for doc in corpus:\n",
        "            for char in doc:\n",
        "                chars.add(char)\n",
        "        char_list = special_tokens + list(sorted(chars))\n",
        "        char2idx = {char: idx for idx, char in enumerate(char_list)}\n",
        "        idx2char = {idx: char for idx, char in enumerate(char_list)}\n",
        "        return char2idx, idx2char\n",
        "\n",
        "    def get_lang_embdding_matrix(self, langs, max_len):\n",
        "        bsz = len(langs)\n",
        "        res = torch.empty(bsz, max_len, self.lang_embedding_size, device=self.device)\n",
        "        for idx, lang in enumerate(langs):\n",
        "            res[idx] = self.language_embs[lang].unsqueeze(0).repeat((max_len, 1))\n",
        "        return res\n",
        "\n",
        "    def embed_words(self, tokenized_sentences, langs):\n",
        "        joined_sentences = list(map(\n",
        "            lambda sentence: ' '.join(sentence),\n",
        "            tokenized_sentences\n",
        "        ))\n",
        "        embeded, indexed_sents = self.embed_and_pack(joined_sentences, langs)\n",
        "        forward, backward = self(embeded)\n",
        "        res = [None] * len(tokenized_sentences)\n",
        "        for idx, sent in enumerate(tokenized_sentences):\n",
        "            cur_pos = 1\n",
        "            res[idx] = torch.empty(len(sent), self.lstm_hidden * 2)\n",
        "            for widx, word in enumerate(sent):\n",
        "                femb = forward[idx, cur_pos + len(word) - 1]\n",
        "                bemb = backward[idx, cur_pos]\n",
        "                cur_pos += len(word) + 1\n",
        "                res[idx][widx, :self.lstm_hidden] = femb\n",
        "                res[idx][widx, self.lstm_hidden:] = bemb\n",
        "        return res\n",
        "\n",
        "    def embed_and_pack(self, sentences, langs): # build tensor of shape bsz * max_len\n",
        "        # declare variables\n",
        "        batch_lens = [None] * len(sentences)\n",
        "        max_len = len(max(sentences, key=len)) + 2 # start and end token\n",
        "        res = torch.zeros(len(sentences), max_len, dtype=torch.long).to(self.device)\n",
        "        if self.language_mode in ('concat', 'add'):\n",
        "            lang_emb = self.get_lang_embdding_matrix(langs, max_len)\n",
        "\n",
        "        # process documents\n",
        "        for i, sent in enumerate(sentences):\n",
        "            idxed_sent = [self.char2idx['<START>']] + list(map(lambda char: self.char2idx.get(char, char2idx['<UNK>']), sent)) + [self.char2idx['<END>']]\n",
        "            res[i, :len(idxed_sent)] = torch.tensor(idxed_sent, device=self.device, dtype=torch.long)\n",
        "            batch_lens[i] = len(idxed_sent)\n",
        "        batch_lens = torch.tensor(batch_lens, device=self.device, dtype=torch.long)\n",
        "        idxed_sent = res\n",
        "        res = self.char_embeddings(res)\n",
        "\n",
        "        # add language information if needed\n",
        "        if self.language_mode == 'concat':\n",
        "            res = torch.cat((res, lang_emb), dim=-1)\n",
        "        elif self.language_mode == 'add':\n",
        "            res += lang_emb\n",
        "\n",
        "        # pack sequence\n",
        "        res = nn.utils.rnn.pack_padded_sequence(res, batch_lens, batch_first=True, enforce_sorted=False)\n",
        "        return res, idxed_sent\n",
        "\n"
      ],
      "execution_count": 0,
      "outputs": []
    },
    {
      "cell_type": "code",
      "metadata": {
        "id": "z5Fc34exzYxM",
        "colab_type": "code",
        "colab": {}
      },
      "source": [
        "char2idx, idx2char = CharLM.build_char_dict(sents_only)"
      ],
      "execution_count": 0,
      "outputs": []
    },
    {
      "cell_type": "code",
      "metadata": {
        "id": "VEbPp4SwosXG",
        "colab_type": "code",
        "colab": {}
      },
      "source": [
        "import pickle"
      ],
      "execution_count": 0,
      "outputs": []
    },
    {
      "cell_type": "code",
      "metadata": {
        "id": "El7I6G_NpYZG",
        "colab_type": "code",
        "outputId": "f58a8096-5b3d-4f2e-8fe6-c930511947f7",
        "colab": {
          "base_uri": "https://localhost:8080/",
          "height": 34
        }
      },
      "source": [
        "print(len(char2idx))"
      ],
      "execution_count": 0,
      "outputs": [
        {
          "output_type": "stream",
          "text": [
            "2511\n"
          ],
          "name": "stdout"
        }
      ]
    },
    {
      "cell_type": "code",
      "metadata": {
        "id": "atdSGrrXpB82",
        "colab_type": "code",
        "colab": {}
      },
      "source": [
        "with open(\"./gdrive/My Drive/CHARM_LMS/char2idx_small_lr\", 'wb') as f:\n",
        "    pickle.dump(char2idx, f)"
      ],
      "execution_count": 0,
      "outputs": []
    },
    {
      "cell_type": "code",
      "metadata": {
        "id": "ZIR8iIt38qlu",
        "colab_type": "code",
        "colab": {}
      },
      "source": [
        "LANGS = ['bg', 'pl', 'cs', 'ru']\n",
        "models = [\n",
        "    {\n",
        "        'name': \"Concat lang\",\n",
        "        'path': \"./gdrive/My Drive/CHARM_LMS/512_512_concat_128_lr0.0001\",\n",
        "        'params': {\n",
        "            'language_mode': 'concat',\n",
        "            'lang_embedding_size': 128,\n",
        "            'language_list': LANGS,\n",
        "        }\n",
        "    },\n",
        "    {\n",
        "        'name': 'No lang',\n",
        "        'path': \"./gdrive/My Drive/CHARM_LMS/512_512_none_lr0.0001\",\n",
        "        'params': {\n",
        "            'language_mode': None,\n",
        "            'lang_embedding_size': None,\n",
        "            'language_list': LANGS,\n",
        "        }\n",
        "    },\n",
        "    {\n",
        "        'name': 'Add lang',\n",
        "        'path': \"./gdrive/My Drive/CHARM_LMS/add_512_512_1500it_lr0.0001\",\n",
        "        'params': {\n",
        "            'language_mode': 'add',\n",
        "            'lang_embedding_size': None,\n",
        "            'language_list': LANGS,\n",
        "        }\n",
        "    }\n",
        "]"
      ],
      "execution_count": 0,
      "outputs": []
    },
    {
      "cell_type": "code",
      "metadata": {
        "id": "BeDfc8Al8uBp",
        "colab_type": "code",
        "outputId": "6e6fcb91-e9af-46b8-dfdb-28c033cf0529",
        "colab": {
          "base_uri": "https://localhost:8080/",
          "height": 621
        }
      },
      "source": [
        "initial_lr = 1e-4\n",
        "lr_alpha = 0.8\n",
        "lr_step = 10\n",
        "iters_in_step = 100\n",
        "for model_desc in models:\n",
        "    print(model_desc['name'])\n",
        "    model = CharLM(char2idx, 512, 512, **model_desc['params']).cuda()\n",
        "    opt = torch.optim.Adam(model.parameters())\n",
        "    scheduler = torch.optim.lr_scheduler.StepLR(opt, step_size=lr_step)\n",
        "    history = defaultdict(list)\n",
        "    it = 0\n",
        "    for sents, langs in iterate_data(DATA):\n",
        "        opt.zero_grad()\n",
        "        f_loss, b_loss = model.calc_loss(sents, langs)\n",
        "        history['forward loss'].append(f_loss.item())\n",
        "        history['backward loss'].append(b_loss.item())\n",
        "        history['loss'].append(f_loss.item() + b_loss.item())\n",
        "        loss = f_loss + b_loss\n",
        "        loss.backward()\n",
        "        opt.step()\n",
        "        if it and (it % iters_in_step == 0):\n",
        "            if it == 1500:\n",
        "                torch.save(model.state_dict(), model_desc['path'])\n",
        "                break\n",
        "            clear_output()\n",
        "            plot_history(history)\n",
        "        it += 1"
      ],
      "execution_count": 0,
      "outputs": [
        {
          "output_type": "display_data",
          "data": {
            "image/png": "[encoded data removed]",
            "text/plain": [
              "<Figure size 1080x720 with 4 Axes>"
            ]
          },
          "metadata": {
            "tags": [],
            "needs_background": "light"
          }
        }
      ]
    },
    {
      "cell_type": "code",
      "metadata": {
        "id": "lfoyYDwrvnOp",
        "colab_type": "code",
        "outputId": "d45a24b5-13d1-439c-94a7-70fdbe58e4b6",
        "colab": {
          "base_uri": "https://localhost:8080/",
          "height": 621
        }
      },
      "source": [
        "history = defaultdict(list)\n",
        "it = 0\n",
        "for sents, langs in iterate_data(DATA):\n",
        "    opt.zero_grad()\n",
        "    f_loss, b_loss = model.calc_loss(sents, langs)\n",
        "    history['forward loss'].append(f_loss.item())\n",
        "    history['backward loss'].append(b_loss.item())\n",
        "    history['loss'].append(f_loss.item() + b_loss.item())\n",
        "    loss = f_loss + b_loss\n",
        "    loss.backward()\n",
        "    opt.step()\n",
        "    if it and (it % iters_in_step == 0):\n",
        "        if it == 1500:\n",
        "            \n",
        "            break\n",
        "        clear_output()\n",
        "        plot_history(history)\n",
        "    it += 1"
      ],
      "execution_count": 0,
      "outputs": [
        {
          "output_type": "display_data",
          "data": {
            "image/png": "[encoded data removed]",
            "text/plain": [
              "<Figure size 1080x720 with 4 Axes>"
            ]
          },
          "metadata": {
            "tags": [],
            "needs_background": "light"
          }
        }
      ]
    },
    {
      "cell_type": "code",
      "metadata": {
        "id": "EIR_IFgYxE4M",
        "colab_type": "code",
        "outputId": "1819904c-0837-4c5f-8f0a-bf1f2f9938c9",
        "colab": {
          "base_uri": "https://localhost:8080/",
          "height": 156
        }
      },
      "source": [
        "model.embed_words([['собака', 'прибежала', 'ко', 'мне']], ['ru'])"
      ],
      "execution_count": 0,
      "outputs": [
        {
          "output_type": "execute_result",
          "data": {
            "text/plain": [
              "[tensor([[-6.9256e-01,  3.9186e-01, -2.1398e-01,  ..., -9.5009e-01,\n",
              "           8.4564e-04,  2.6861e-01],\n",
              "         [-7.4922e-01,  5.8609e-01,  1.4432e-01,  ...,  2.5681e-02,\n",
              "           3.8313e-03,  8.2492e-02],\n",
              "         [-9.2311e-01,  2.2631e-02, -2.2945e-01,  ..., -1.2402e-02,\n",
              "           3.5126e-03,  3.1770e-01],\n",
              "         [-1.4690e-02,  5.0458e-02, -4.8326e-01,  ..., -5.3070e-01,\n",
              "           9.9648e-01,  6.0513e-03]], grad_fn=<CopySlices>)]"
            ]
          },
          "metadata": {
            "tags": []
          },
          "execution_count": 80
        }
      ]
    },
    {
      "cell_type": "code",
      "metadata": {
        "id": "HCZYFKAQ_TdW",
        "colab_type": "code",
        "outputId": "93397a21-20e1-4c2c-b5b7-0a828befc812",
        "colab": {
          "base_uri": "https://localhost:8080/",
          "height": 72
        }
      },
      "source": [
        "torch.save(model.state_dict, './gdrive/My Drive/CHARM_LMS/AA')"
      ],
      "execution_count": 0,
      "outputs": [
        {
          "output_type": "stream",
          "text": [
            "/usr/local/lib/python3.6/dist-packages/torch/serialization.py:402: UserWarning: Couldn't retrieve source code for container of type CharLM. It won't be checked for correctness upon loading.\n",
            "  \"type \" + obj.__name__ + \". It won't be checked \"\n"
          ],
          "name": "stderr"
        }
      ]
    },
    {
      "cell_type": "code",
      "metadata": {
        "id": "aVp2Wt3OfY49",
        "colab_type": "code",
        "colab": {}
      },
      "source": [
        "from sklearn.metrics.pairwise import cosine_similarity, euclidean_distances"
      ],
      "execution_count": 0,
      "outputs": []
    },
    {
      "cell_type": "code",
      "metadata": {
        "id": "ivnPaUmVfaVb",
        "colab_type": "code",
        "outputId": "e6f1b203-e2aa-4cb8-83de-f7e37ad17fac",
        "colab": {
          "base_uri": "https://localhost:8080/",
          "height": 211
        }
      },
      "source": [
        "param_dict = {}\n",
        "for l, p in model.language_embs.items():\n",
        "    param_dict[l] = p.data.cpu().numpy()\n",
        "vals = param_dict.values()\n",
        "vals = np.vstack(vals)\n",
        "print(cosine_similarity(vals))\n",
        "print(euclidean_distances(vals))"
      ],
      "execution_count": 0,
      "outputs": [
        {
          "output_type": "stream",
          "text": [
            "[[ 1.0000001  -0.08807459  0.08675887 -0.18195748]\n",
            " [-0.08807459  1.0000001  -0.02988976  0.03975259]\n",
            " [ 0.08675887 -0.02988976  1.0000001  -0.04697676]\n",
            " [-0.18195748  0.03975259 -0.04697676  1.0000002 ]]\n",
            "[[ 0.       16.766706 15.201137 17.60394 ]\n",
            " [16.766706  0.       16.553753 16.260098]\n",
            " [15.201137 16.553753  0.       16.811644]\n",
            " [17.60394  16.260098 16.811644  0.      ]]\n"
          ],
          "name": "stdout"
        },
        {
          "output_type": "stream",
          "text": [
            "/usr/local/lib/python3.6/dist-packages/ipykernel_launcher.py:5: FutureWarning: arrays to stack must be passed as a \"sequence\" type such as list or tuple. Support for non-sequence iterables such as generators is deprecated as of NumPy 1.16 and will raise an error in the future.\n",
            "  \"\"\"\n"
          ],
          "name": "stderr"
        }
      ]
    },
    {
      "cell_type": "code",
      "metadata": {
        "id": "bzCJBxHoLfiI",
        "colab_type": "code",
        "colab": {}
      },
      "source": [
        ""
      ],
      "execution_count": 0,
      "outputs": []
    }
  ]
}